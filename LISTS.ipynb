{
  "nbformat": 4,
  "nbformat_minor": 0,
  "metadata": {
    "kernelspec": {
      "display_name": "Python 3",
      "language": "python",
      "name": "python3"
    },
    "language_info": {
      "codemirror_mode": {
        "name": "ipython",
        "version": 3
      },
      "file_extension": ".py",
      "mimetype": "text/x-python",
      "name": "python",
      "nbconvert_exporter": "python",
      "pygments_lexer": "ipython3",
      "version": "3.6.5"
    },
    "colab": {
      "name": "Copy of python3_ashwinijain.ipynb",
      "provenance": [],
      "collapsed_sections": []
    }
  },
  "cells": [
    {
      "cell_type": "markdown",
      "metadata": {
        "id": "CE9kazKvuEql",
        "colab_type": "text"
      },
      "source": [
        "# Lists"
      ]
    },
    {
      "cell_type": "markdown",
      "metadata": {
        "id": "mCoueiuRuEqn",
        "colab_type": "text"
      },
      "source": [
        "## Lists\n",
        "- A list is a collection of items, that is stored in a variable. \n",
        "- The items should be related in some way, but there are no restrictions on what can be stored in a list."
      ]
    },
    {
      "cell_type": "markdown",
      "metadata": {
        "id": "WMc00i-BuEqo",
        "colab_type": "text"
      },
      "source": [
        "### Syntax\n",
        "list-name = [list of comma seperated values]"
      ]
    },
    {
      "cell_type": "markdown",
      "metadata": {
        "id": "UVTNupfFuEqq",
        "colab_type": "text"
      },
      "source": [
        "### Slicing with list\n",
        "\n",
        "index start with 0\n",
        "\n",
        " listname[index_number]\n",
        "\n",
        " listname[start_index:end_index]\n",
        "\n",
        " listname[:end_index]\n",
        "\n",
        " listname[start_index:]\n",
        "\n",
        "\n",
        "negative index: \n",
        " listname[:-index] \n",
        "\n",
        "\n",
        "### list methods\n",
        "- append()\n",
        "- len()\n",
        "- insert(index,value)\n",
        "- sort()\n",
        "- reverse()\n",
        "- pop(), pop(index)\n",
        "- min(), max(), sum()\n",
        "\n",
        "\n",
        "We can change the contents of the lists after its creation\n",
        "\n",
        "listname[index]=newvalue"
      ]
    },
    {
      "cell_type": "markdown",
      "metadata": {
        "id": "zMEfQRFauEqr",
        "colab_type": "text"
      },
      "source": [
        "#### Task 1: Run below code and try to make some changes to the code"
      ]
    },
    {
      "cell_type": "code",
      "metadata": {
        "id": "-un7NuvzuEqs",
        "colab_type": "code",
        "outputId": "705d9c7e-5a62-4f9b-dc48-637756b81a0a",
        "colab": {
          "base_uri": "https://localhost:8080/",
          "height": 102
        }
      },
      "source": [
        "# list creation\n",
        "countries = ['Africa', 'Australia', 'USA', 'China']\n",
        "\n",
        "# print whole list\n",
        "print(countries)\n",
        "\n",
        "# Accessing list elements\n",
        "print(\"Value at 0 index: \",countries[0])\n",
        "\n",
        "# assignning new value to index\n",
        "countries[0]='Japan'\n",
        "\n",
        "print(\"New value at index 0: \",countries[0])\n",
        "\n",
        "#Changes made by me\n",
        "print(countries[0:])\n",
        "print(countries[:2])"
      ],
      "execution_count": 2,
      "outputs": [
        {
          "output_type": "stream",
          "text": [
            "['Africa', 'Australia', 'USA', 'China']\n",
            "Value at 0 index:  Africa\n",
            "New value at index 0:  Japan\n",
            "['Japan', 'Australia', 'USA', 'China']\n",
            "['Japan', 'Australia']\n"
          ],
          "name": "stdout"
        }
      ]
    },
    {
      "cell_type": "markdown",
      "metadata": {
        "id": "dilg5WVYuEqx",
        "colab_type": "text"
      },
      "source": [
        "### Iterating lists"
      ]
    },
    {
      "cell_type": "markdown",
      "metadata": {
        "id": "81ryE-rZuEqz",
        "colab_type": "text"
      },
      "source": [
        "#### Task 2: Run below code and try to make some changes to the code"
      ]
    },
    {
      "cell_type": "code",
      "metadata": {
        "scrolled": true,
        "id": "E4fLjOaZuEq0",
        "colab_type": "code",
        "outputId": "620260f1-1545-4284-d491-e06a13dbf4b2",
        "colab": {
          "base_uri": "https://localhost:8080/",
          "height": 187
        }
      },
      "source": [
        "\n",
        "lists=['flower','abc',6,'Semester']\n",
        "\n",
        "print(lists)\n",
        "\n",
        "# we can access the elements of list using loops\n",
        "\n",
        "for item in lists:\n",
        "    print(item)\n",
        "\n",
        "#Changes made by me\n",
        "lists[1] = 'Akshat'\n",
        "\n",
        "print(\"New value at index 1: \",lists[1])\n",
        "\n",
        "#New iteration\n",
        "for i in lists:\n",
        "    print(i)"
      ],
      "execution_count": 4,
      "outputs": [
        {
          "output_type": "stream",
          "text": [
            "['flower', 'abc', 6, 'Semester']\n",
            "flower\n",
            "abc\n",
            "6\n",
            "Semester\n",
            "New value at index 1:  Akshat\n",
            "flower\n",
            "Akshat\n",
            "6\n",
            "Semester\n"
          ],
          "name": "stdout"
        }
      ]
    },
    {
      "cell_type": "markdown",
      "metadata": {
        "id": "AfzGa6PXuEq4",
        "colab_type": "text"
      },
      "source": [
        "#### Task 3: Run below code and try to make some changes to the code"
      ]
    },
    {
      "cell_type": "code",
      "metadata": {
        "scrolled": false,
        "id": "uJy7ziaduEq5",
        "colab_type": "code",
        "outputId": "5f5c3587-9ccf-4664-95e8-42af7b1fcfc2",
        "colab": {
          "base_uri": "https://localhost:8080/",
          "height": 187
        }
      },
      "source": [
        "# print the index number with value\n",
        "\n",
        "countries = ['japan', 'China', 'USA']\n",
        "\n",
        "for index, country in enumerate(countries):\n",
        "    place = str(index)\n",
        "    print(\"Index: \" + place + \", Value: \" + country.title())\n",
        "    \n",
        "# find index of\n",
        "index = countries.index('USA') \n",
        "print(\"\\n Index of USA is: \",index)\n",
        "\n",
        "#Changes made by me \n",
        "countries[1] = 'India'\n",
        "\n",
        "for index, country in enumerate(countries):\n",
        "    place = str(index)\n",
        "    print(\"Index: \" + place + \", Value: \" + country.title())\n",
        "\n",
        "# find index of\n",
        "index = countries.index('India') \n",
        "print(\"\\n Index of India is: \",index)    \n"
      ],
      "execution_count": 5,
      "outputs": [
        {
          "output_type": "stream",
          "text": [
            "Index: 0, Value: Japan\n",
            "Index: 1, Value: China\n",
            "Index: 2, Value: Usa\n",
            "\n",
            " Index of USA is:  2\n",
            "Index: 0, Value: Japan\n",
            "Index: 1, Value: India\n",
            "Index: 2, Value: Usa\n",
            "\n",
            " Index of India is:  1\n"
          ],
          "name": "stdout"
        }
      ]
    },
    {
      "cell_type": "markdown",
      "metadata": {
        "id": "MC3q0utGuEq9",
        "colab_type": "text"
      },
      "source": [
        "#### Task 4: Run below code and try to make some changes to the code"
      ]
    },
    {
      "cell_type": "code",
      "metadata": {
        "id": "1ydARtKLuEq-",
        "colab_type": "code",
        "outputId": "b47a1b75-d10c-4436-b8b2-18f7bf0dfb25",
        "colab": {
          "base_uri": "https://localhost:8080/",
          "height": 51
        }
      },
      "source": [
        "# Remove the last country from the list by index or by value\n",
        "countries = ['japan', 'China', 'USA']\n",
        "\n",
        "del countries[1]\n",
        "\n",
        "print(countries)\n",
        "\n",
        "#Changes made by me\n",
        "\n",
        "del countries[1]\n",
        "\n",
        "print(countries)"
      ],
      "execution_count": 7,
      "outputs": [
        {
          "output_type": "stream",
          "text": [
            "['japan', 'USA']\n",
            "['japan']\n"
          ],
          "name": "stdout"
        }
      ]
    },
    {
      "cell_type": "markdown",
      "metadata": {
        "id": "CqZJZ-ZLuErC",
        "colab_type": "text"
      },
      "source": [
        "### List comprehension (with for loop)"
      ]
    },
    {
      "cell_type": "markdown",
      "metadata": {
        "id": "BRObLUlIuErD",
        "colab_type": "text"
      },
      "source": [
        "#### Task 5: Run below code and try to make some changes to the code"
      ]
    },
    {
      "cell_type": "code",
      "metadata": {
        "id": "-NskuVdeuErE",
        "colab_type": "code",
        "outputId": "6e4f3612-24c2-41ea-cbfa-f88385e173d5",
        "colab": {
          "base_uri": "https://localhost:8080/",
          "height": 51
        }
      },
      "source": [
        "# without comprehension\n",
        "\n",
        "cubes = []\n",
        "for x in [1, 2, 3, 4, 5]:\n",
        "    cubes.append(x ** 3) \n",
        "    \n",
        "print(cubes)\n",
        "\n",
        "#Changes made by me\n",
        "pow4 = []\n",
        "for x in [1, 2, 3, 4, 5]:\n",
        "    pow4.append(x ** 4) \n",
        "    \n",
        "print(pow4)"
      ],
      "execution_count": 8,
      "outputs": [
        {
          "output_type": "stream",
          "text": [
            "[1, 8, 27, 64, 125]\n",
            "[1, 16, 81, 256, 625]\n"
          ],
          "name": "stdout"
        }
      ]
    },
    {
      "cell_type": "code",
      "metadata": {
        "id": "0tnCvfgFuErJ",
        "colab_type": "code",
        "outputId": "3ea0d070-727a-4f63-9ac9-2f25eed83f8a",
        "colab": {
          "base_uri": "https://localhost:8080/",
          "height": 51
        }
      },
      "source": [
        "# with comprehension\n",
        "  \n",
        "cubes= [x**3 for x in [1, 2, 3, 4, 5]]\n",
        "print(cubes)\n",
        "\n",
        "#Changes made by me\n",
        "  \n",
        "pow5= [x**5 for x in [1, 2, 3, 4, 5]]\n",
        "print(pow5)"
      ],
      "execution_count": 9,
      "outputs": [
        {
          "output_type": "stream",
          "text": [
            "[1, 8, 27, 64, 125]\n",
            "[1, 32, 243, 1024, 3125]\n"
          ],
          "name": "stdout"
        }
      ]
    },
    {
      "cell_type": "code",
      "metadata": {
        "id": "rpw76uDVuErO",
        "colab_type": "code",
        "colab": {
          "base_uri": "https://localhost:8080/",
          "height": 34
        },
        "outputId": "c1952458-72f0-4d81-f619-aebd7ffcc84e"
      },
      "source": [
        "numbers=[1,2,3,4,5,6,7,8,9,10]\n",
        "list=[x for x in numbers]\n",
        "list"
      ],
      "execution_count": 10,
      "outputs": [
        {
          "output_type": "execute_result",
          "data": {
            "text/plain": [
              "[1, 2, 3, 4, 5, 6, 7, 8, 9, 10]"
            ]
          },
          "metadata": {
            "tags": []
          },
          "execution_count": 10
        }
      ]
    },
    {
      "cell_type": "markdown",
      "metadata": {
        "id": "ZAqkJUWMuErU",
        "colab_type": "text"
      },
      "source": [
        "#### Program 1: Write a python program which does the following\n",
        "- Make a list that includes four job types , such as 'programmer', 'truck driver' and so on\n",
        "- Use the *list.index()* function to find the index of one job type in your list.\n",
        "- Use the *in* function to show that this job type is in your list.\n",
        "- Use the *append()* function to add a new job type to your list.\n",
        "- Use the *insert()* function to add a new job type \"Python Programmer\" at the beginning of the list.\n",
        "- Use a loop to show all the job types in your list."
      ]
    },
    {
      "cell_type": "markdown",
      "metadata": {
        "id": "-BfTr0PE10fb",
        "colab_type": "text"
      },
      "source": [
        ""
      ]
    },
    {
      "cell_type": "code",
      "metadata": {
        "id": "RZPxGiH0uErW",
        "colab_type": "code",
        "outputId": "847ec31f-3646-4272-adf5-db6db08336f5",
        "colab": {
          "base_uri": "https://localhost:8080/",
          "height": 299
        }
      },
      "source": [
        " l= ['programmer','truckdriver','chef','doctor']\n",
        "print(l.index('programmer'))\n",
        "\n",
        "i=l.index(\"programmer\")\n",
        "print(l[i])\n",
        "if l[i] in l:\n",
        "  print(l[i],\"is in list  l\")\n",
        "\n",
        "j_tpye=input(\"enter job type :\")\n",
        "l.append(j_type)\n",
        "print(l)\n",
        "\n",
        "j1_type = input(\"Enter the Job Type : \")\n",
        "l.insert(0, j1_type)\n",
        "print(l)\n",
        "\n",
        "\n",
        "print(\"\\n\")\n",
        "for i in l :\n",
        "  print(i)\n",
        "\n",
        "\n",
        "\n",
        "\n",
        "\n",
        "\n",
        "\n"
      ],
      "execution_count": 15,
      "outputs": [
        {
          "output_type": "stream",
          "text": [
            "0\n",
            "programmer\n",
            "programmer is in list  l\n",
            "enter job type :chef\n"
          ],
          "name": "stdout"
        },
        {
          "output_type": "error",
          "ename": "NameError",
          "evalue": "ignored",
          "traceback": [
            "\u001b[0;31m---------------------------------------------------------------------------\u001b[0m",
            "\u001b[0;31mNameError\u001b[0m                                 Traceback (most recent call last)",
            "\u001b[0;32m<ipython-input-15-1756f949cd49>\u001b[0m in \u001b[0;36m<module>\u001b[0;34m()\u001b[0m\n\u001b[1;32m      8\u001b[0m \u001b[0;34m\u001b[0m\u001b[0m\n\u001b[1;32m      9\u001b[0m \u001b[0mj_tpye\u001b[0m\u001b[0;34m=\u001b[0m\u001b[0minput\u001b[0m\u001b[0;34m(\u001b[0m\u001b[0;34m\"enter job type :\"\u001b[0m\u001b[0;34m)\u001b[0m\u001b[0;34m\u001b[0m\u001b[0;34m\u001b[0m\u001b[0m\n\u001b[0;32m---> 10\u001b[0;31m \u001b[0ml\u001b[0m\u001b[0;34m.\u001b[0m\u001b[0mappend\u001b[0m\u001b[0;34m(\u001b[0m\u001b[0mj_type\u001b[0m\u001b[0;34m)\u001b[0m\u001b[0;34m\u001b[0m\u001b[0;34m\u001b[0m\u001b[0m\n\u001b[0m\u001b[1;32m     11\u001b[0m \u001b[0mprint\u001b[0m\u001b[0;34m(\u001b[0m\u001b[0ml\u001b[0m\u001b[0;34m)\u001b[0m\u001b[0;34m\u001b[0m\u001b[0;34m\u001b[0m\u001b[0m\n\u001b[1;32m     12\u001b[0m \u001b[0;34m\u001b[0m\u001b[0m\n",
            "\u001b[0;31mNameError\u001b[0m: name 'j_type' is not defined"
          ]
        }
      ]
    },
    {
      "cell_type": "markdown",
      "metadata": {
        "id": "s9_VCnkJuEra",
        "colab_type": "text"
      },
      "source": [
        "#### Problem 2: Write a python program for following\n",
        "\n",
        "- Make a list that includes the names of five famous people.\n",
        "- Remove each person from the list, one at a time, using the four methods given below:\n",
        "    - Del item from the list by del: del listname[index]\n",
        "    - Remove the item from the list by remove method: listname.remove('itemname')\n",
        "    - Using pop() method, It removes the last item from the list: listname.pop() \n",
        "    - Pop any item from the list by index: listname: listname.pop(index)\n",
        "- Print out a message that there are no famous people left in your list, and print your list to prove that it is empty."
      ]
    },
    {
      "cell_type": "code",
      "metadata": {
        "id": "3Cf_mbehuErb",
        "colab_type": "code",
        "colab": {
          "base_uri": "https://localhost:8080/",
          "height": 34
        },
        "outputId": "848403ac-fdc4-4f22-a977-1d16615e23aa"
      },
      "source": [
        "#list that includes the names of five famous people\n",
        "l = ['Narendra Modi', 'Hilary Clinton', 'Virat Kohli', 'MS Dhoni', 'APJ ABDUL KALAM']\n",
        "\n",
        "#Del item from the list by del: del listname[index]\n",
        "del l[0]\n",
        "\n",
        "#Remove the item from the list by remove method: listname.remove('itemname')\n",
        "l.remove(\"Hilary Clinton\")\n",
        "\n",
        "#Using pop() method, It removes the last item from the list: listname.pop()\n",
        "l.pop()\n",
        "\n",
        "#Pop any item from the list by index: listname: listname.pop(index)\n",
        "l.pop(0)\n",
        "\n",
        "print(l)"
      ],
      "execution_count": 17,
      "outputs": [
        {
          "output_type": "stream",
          "text": [
            "['MS Dhoni']\n"
          ],
          "name": "stdout"
        }
      ]
    },
    {
      "cell_type": "markdown",
      "metadata": {
        "id": "GSsWG_cGuErf",
        "colab_type": "text"
      },
      "source": [
        "#### Program 3: Write a python program which does the following\n",
        "\n",
        "- Store the first ten letters of the alphabet in a list.\n",
        "- Use a slice to print out the first three letters of the alphabet.\n",
        "- Use a slice to print out any three letters from the middle of your list.\n",
        "- Use a slice to print out the letters from any point in the middle of your list, to the end.\n"
      ]
    },
    {
      "cell_type": "code",
      "metadata": {
        "id": "tmrnWq_YuErg",
        "colab_type": "code",
        "colab": {
          "base_uri": "https://localhost:8080/",
          "height": 68
        },
        "outputId": "9c6732cc-9303-4ee6-ef10-2c05ddd13fe3"
      },
      "source": [
        "#Store the first ten letters of the alphabet in a list\n",
        "l = ['A', 'B', 'C', 'D', 'E', 'F', 'G', 'H', 'I', 'J']\n",
        "\n",
        "#Use a slice to print out the first three letters of the alphabet\n",
        "print(l[:3])\n",
        "\n",
        "#Use a slice to print out any three letters from the middle of your list\n",
        "print(l[4:8])\n",
        "\n",
        "#Use a slice to print out the letters from any point in the middle of your list, to the end\n",
        "print(l[2:])"
      ],
      "execution_count": 18,
      "outputs": [
        {
          "output_type": "stream",
          "text": [
            "['A', 'B', 'C']\n",
            "['E', 'F', 'G', 'H']\n",
            "['C', 'D', 'E', 'F', 'G', 'H', 'I', 'J']\n"
          ],
          "name": "stdout"
        }
      ]
    },
    {
      "cell_type": "markdown",
      "metadata": {
        "id": "NWe_XtTXuErk",
        "colab_type": "text"
      },
      "source": [
        "#### Program 4: Write a python program for following\n",
        "\n",
        "- Your goal in this exercise is to prove that copying a list protects the original list.\n",
        "- Make a list with three people's names in it.\n",
        "- Use a slice to make a copy of the entire list.\n",
        "- Add at least two new names to the new copy of the list.\n",
        "- Make a loop that prints out all of the names in the original list, along with a message that this is the original list.\n",
        "- Make a loop that prints out all of the names in the copied list, along with a message that this is the copied list."
      ]
    },
    {
      "cell_type": "code",
      "metadata": {
        "id": "mz_cmNDjuErm",
        "colab_type": "code",
        "colab": {
          "base_uri": "https://localhost:8080/",
          "height": 102
        },
        "outputId": "0633bd73-de7f-4250-be8b-5251bd9cfb4b"
      },
      "source": [
        "#Make a list with three people's names in it\n",
        "l1 = ['Akshat', 'Amay', 'Vanshika']\n",
        "\n",
        "#Use a slice to make a copy of the entire list\n",
        "l2 = l1[:]\n",
        "\n",
        "#Add at least two new names to the new copy of the list\n",
        "l2.append(\"Jhabak\")\n",
        "l2.append(\"Jain\")\n",
        "\n",
        "#Make a loop that prints out all of the names in the original list, along with a message that this is the original list\n",
        "print('This is the Original List: ')\n",
        "for i in l1: \n",
        "  print(i, ', ', end='')\n",
        "\n",
        "#Make a loop that prints out all of the names in the copied list, along with a message that this is the copied list  \n",
        "print('\\b\\b\\n\\nThis is the Copied List: ')\n",
        "for i in l2: \n",
        "  print(i, ', ', end='')\n",
        "print('\\b\\b')"
      ],
      "execution_count": 2,
      "outputs": [
        {
          "output_type": "stream",
          "text": [
            "This is the Original List: \n",
            "Akshat , Amay , Vanshika , \b\b\n",
            "\n",
            "This is the Copied List: \n",
            "Akshat , Amay , Vanshika , Jhabak , Jain , \b\b\n"
          ],
          "name": "stdout"
        }
      ]
    },
    {
      "cell_type": "markdown",
      "metadata": {
        "id": "whk0o2dAuErs",
        "colab_type": "text"
      },
      "source": [
        "#### Program 5: Write a python program for following\n",
        "\n",
        "- Create a list to store the marks of top 15 students obtained by the students in Python Quiz held on 21/08/2018. Maximum marks=15\n",
        "- Print the maximum marks obtained by the student from the list.\n",
        "- Print the minimum marks obtained by the student.\n",
        "- Find the sum of all the marks.\n",
        "- Find the average of the marks.\n",
        "- Reverse the original list and display using for loop.\n"
      ]
    },
    {
      "cell_type": "code",
      "metadata": {
        "id": "xpZzhZcSuEru",
        "colab_type": "code",
        "colab": {
          "base_uri": "https://localhost:8080/",
          "height": 102
        },
        "outputId": "734b1c49-fdcc-4cb3-cee9-3afdd7e1420e"
      },
      "source": [
        "#list to store the marks of top 15 students obtained by the students\n",
        "l = [14, 15, 10, 9, 6, 14, 13, 5, 10, 14, 15, 13, 11, 10, 15]\n",
        "\n",
        "#Print the maximum marks obtained by the student from the list.\n",
        "#Print the minimum marks obtained by the student.\n",
        "#Find the sum of all the marks.\n",
        "#Find the average of the marks.\n",
        "print('Maximum : ', max(l), '\\nMinimum : ', min(l), '\\n Sum : ', sum(l), '\\n Average : ', sum(l)/15)\n",
        "l = l[::-1]\n",
        "\n",
        "#Reverse the original list and display using for loop\n",
        "print(\"Reverse : \", l)\n"
      ],
      "execution_count": 3,
      "outputs": [
        {
          "output_type": "stream",
          "text": [
            "Maximum :  15 \n",
            "Minimum :  5 \n",
            " Sum :  174 \n",
            " Average :  11.6\n",
            "Reverse :  [15, 10, 11, 13, 15, 14, 10, 5, 13, 14, 6, 9, 10, 15, 14]\n"
          ],
          "name": "stdout"
        }
      ]
    },
    {
      "cell_type": "markdown",
      "metadata": {
        "id": "frM5O8tHuEry",
        "colab_type": "text"
      },
      "source": [
        "#### Program 6: Write a program in Python to create a list which contains n integers entered by the user and delete all odd numbers from the list. Example: If initial contents of the list is=[1,2,3,4,5,6,7,8,9,10], the output would be=[2,4,6,8,10]."
      ]
    },
    {
      "cell_type": "code",
      "metadata": {
        "id": "alv_kdUouErz",
        "colab_type": "code",
        "colab": {
          "base_uri": "https://localhost:8080/",
          "height": 85
        },
        "outputId": "97d3b58c-a17f-427b-e21e-aa3ea6c44fe2"
      },
      "source": [
        "list = [57,110,786,11,]\n",
        "\n",
        "print (\"Original list:\")\n",
        "print (list)\n",
        "for i  in list:\n",
        "\tif(i%2 != 0):\n",
        "\t    list.remove(i)\n",
        "print (\"list after removing ODD numbers:\")\n",
        "print (list)"
      ],
      "execution_count": 4,
      "outputs": [
        {
          "output_type": "stream",
          "text": [
            "Original list:\n",
            "[57, 110, 786, 11]\n",
            "list after removing ODD numbers:\n",
            "[110, 786]\n"
          ],
          "name": "stdout"
        }
      ]
    },
    {
      "cell_type": "markdown",
      "metadata": {
        "id": "-eh87vCguEr5",
        "colab_type": "text"
      },
      "source": [
        "## Optional Questions"
      ]
    },
    {
      "cell_type": "markdown",
      "metadata": {
        "id": "JDKd4_PEuEr6",
        "colab_type": "text"
      },
      "source": [
        "#### Program 7: Write a python program for following.\n",
        "- Create an initial empty list named \"countries\" \n",
        "- Read the names of n countries from the user and add them to country list:\n",
        "- Use for loop to display all the names of the countries from the list and add \"is Great\" after the country name if it is \"India\""
      ]
    },
    {
      "cell_type": "code",
      "metadata": {
        "id": "nEMwkoKmuEr7",
        "colab_type": "code",
        "colab": {
          "base_uri": "https://localhost:8080/",
          "height": 85
        },
        "outputId": "1e027b35-35bd-4fb1-9bb9-8b724c4d1a54"
      },
      "source": [
        "list=['Aus','India','Pak','AFG']\n",
        "for _ in range(len(list)):\n",
        "    if list[_] == 'India':\n",
        "        print('India is Great')\n",
        "        continue\n",
        "    print(list[_])"
      ],
      "execution_count": 6,
      "outputs": [
        {
          "output_type": "stream",
          "text": [
            "Aus\n",
            "India is Great\n",
            "Pak\n",
            "AFG\n"
          ],
          "name": "stdout"
        }
      ]
    },
    {
      "cell_type": "markdown",
      "metadata": {
        "id": "bHtQiQ55uEr_",
        "colab_type": "text"
      },
      "source": [
        "### Program 8: Write a Python program to find the list in a list of lists whose sum of elements is the highest.\n",
        "Sample lists: [[1,2,3], [4,5,6], [10,11,12], [7,8,9]]\n",
        "Expected Output: [10, 11, 12]"
      ]
    },
    {
      "cell_type": "code",
      "metadata": {
        "id": "Kph_EFQ9uEsB",
        "colab_type": "code",
        "colab": {
          "base_uri": "https://localhost:8080/",
          "height": 34
        },
        "outputId": "5f62ed3a-10c2-4e60-c1af-44eb33b9c1e2"
      },
      "source": [
        "\n",
        "l = [[1,2,3], [4,5,6], [10,11,12], [7,8,9]]\n",
        "print(max(l))"
      ],
      "execution_count": 7,
      "outputs": [
        {
          "output_type": "stream",
          "text": [
            "[10, 11, 12]\n"
          ],
          "name": "stdout"
        }
      ]
    }
  ]
}