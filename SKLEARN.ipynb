{
  "nbformat": 4,
  "nbformat_minor": 0,
  "metadata": {
    "kernelspec": {
      "display_name": "Python 3",
      "language": "python",
      "name": "python3"
    },
    "language_info": {
      "codemirror_mode": {
        "name": "ipython",
        "version": 3
      },
      "file_extension": ".py",
      "mimetype": "text/x-python",
      "name": "python",
      "nbconvert_exporter": "python",
      "pygments_lexer": "ipython3",
      "version": "3.7.3"
    },
    "colab": {
      "name": "Copy of LR_SKLEARN.ipynb",
      "provenance": [],
      "collapsed_sections": []
    }
  },
  "cells": [
    {
      "cell_type": "code",
      "metadata": {
        "id": "Ayzj2PTp9pcc",
        "colab_type": "code",
        "colab": {}
      },
      "source": [
        "import pandas as pd\n",
        "import numpy as np\n",
        "import matplotlib.pyplot as plt"
      ],
      "execution_count": 0,
      "outputs": []
    },
    {
      "cell_type": "markdown",
      "metadata": {
        "id": "ouTG8Tvb9pck",
        "colab_type": "text"
      },
      "source": [
        "PREPARING THE DATASET"
      ]
    },
    {
      "cell_type": "code",
      "metadata": {
        "id": "j76ojSvH9pcm",
        "colab_type": "code",
        "colab": {
          "base_uri": "https://localhost:8080/",
          "height": 374
        },
        "outputId": "6bd55c7c-4650-4b4d-cefe-deb3a7987eb2"
      },
      "source": [
        "# intialise data of lists. \n",
        "data = {'passenger':[892,893,894,895,896,897,898,899,900,901,902,903,904,905,905,906,907,908,909,910], \n",
        "        'Scores':[0,1,0,0,1,0,1,0,1,0,0,0,1,0,1,1,0,0,1,0]} \n",
        "  \n",
        "# Create DataFrame \n",
        "passenger = pd.DataFrame(data) \n",
        "  \n",
        "# Print the output. \n",
        "print(passenger)"
      ],
      "execution_count": 8,
      "outputs": [
        {
          "output_type": "stream",
          "text": [
            "    passenger  Scores\n",
            "0         892       0\n",
            "1         893       1\n",
            "2         894       0\n",
            "3         895       0\n",
            "4         896       1\n",
            "5         897       0\n",
            "6         898       1\n",
            "7         899       0\n",
            "8         900       1\n",
            "9         901       0\n",
            "10        902       0\n",
            "11        903       0\n",
            "12        904       1\n",
            "13        905       0\n",
            "14        905       1\n",
            "15        906       1\n",
            "16        907       0\n",
            "17        908       0\n",
            "18        909       1\n",
            "19        910       0\n"
          ],
          "name": "stdout"
        }
      ]
    },
    {
      "cell_type": "markdown",
      "metadata": {
        "id": "Xc2RcBQF9pcs",
        "colab_type": "text"
      },
      "source": [
        "SEPARATING THE DEPENDENT AND INDEPENDENT VARIABLES"
      ]
    },
    {
      "cell_type": "code",
      "metadata": {
        "id": "VrEJjZbh9pct",
        "colab_type": "code",
        "colab": {}
      },
      "source": [
        "X = passenger.iloc[ : ,   : 1 ].values\n",
        "Y = passenger.iloc[ : , -1 ].values"
      ],
      "execution_count": 0,
      "outputs": []
    },
    {
      "cell_type": "code",
      "metadata": {
        "id": "NzgtQmLQhr2K",
        "colab_type": "code",
        "colab": {
          "base_uri": "https://localhost:8080/",
          "height": 374
        },
        "outputId": "746b70b0-7cc7-470c-e356-223ca8033347"
      },
      "source": [
        "print(X)\n",
        "print(Y)\n"
      ],
      "execution_count": 14,
      "outputs": [
        {
          "output_type": "stream",
          "text": [
            "[[892]\n",
            " [893]\n",
            " [894]\n",
            " [895]\n",
            " [896]\n",
            " [897]\n",
            " [898]\n",
            " [899]\n",
            " [900]\n",
            " [901]\n",
            " [902]\n",
            " [903]\n",
            " [904]\n",
            " [905]\n",
            " [905]\n",
            " [906]\n",
            " [907]\n",
            " [908]\n",
            " [909]\n",
            " [910]]\n",
            "[0 1 0 0 1 0 1 0 1 0 0 0 1 0 1 1 0 0 1 0]\n"
          ],
          "name": "stdout"
        }
      ]
    },
    {
      "cell_type": "markdown",
      "metadata": {
        "id": "QXs6YOrO9pcx",
        "colab_type": "text"
      },
      "source": [
        "SPLITTING THE DATASET INTO TRAIN AND TEST SETS"
      ]
    },
    {
      "cell_type": "code",
      "metadata": {
        "id": "OFUfUbl79pcy",
        "colab_type": "code",
        "colab": {}
      },
      "source": [
        "from sklearn.model_selection import train_test_split\n",
        "X_train, X_test, Y_train, Y_test = train_test_split( X, Y, test_size = 1/2, random_state = 0)"
      ],
      "execution_count": 0,
      "outputs": []
    },
    {
      "cell_type": "code",
      "metadata": {
        "id": "WQVU_EK8iaIF",
        "colab_type": "code",
        "colab": {
          "base_uri": "https://localhost:8080/",
          "height": 357
        },
        "outputId": "a9af9379-d85b-47cf-c9ea-b3aeb58d21f3"
      },
      "source": [
        "print(X_test)\n",
        "print(X_test)\n",
        "\n",
        "print(X_train)\n",
        "\n",
        "print(X_train)"
      ],
      "execution_count": 18,
      "outputs": [
        {
          "output_type": "stream",
          "text": [
            "[[909]\n",
            " [893]\n",
            " [910]\n",
            " [900]\n",
            " [902]\n",
            " [908]\n",
            " [898]\n",
            " [905]\n",
            " [896]\n",
            " [894]]\n",
            "[[897]\n",
            " [905]\n",
            " [901]\n",
            " [899]\n",
            " [907]\n",
            " [903]\n",
            " [895]\n",
            " [892]\n",
            " [906]\n",
            " [904]]\n"
          ],
          "name": "stdout"
        }
      ]
    },
    {
      "cell_type": "code",
      "metadata": {
        "id": "tMqmVv_TTDPv",
        "colab_type": "code",
        "colab": {
          "base_uri": "https://localhost:8080/",
          "height": 187
        },
        "outputId": "242c197d-1ce5-4959-ae3a-f876fc2803b7"
      },
      "source": [
        "X_test"
      ],
      "execution_count": 19,
      "outputs": [
        {
          "output_type": "execute_result",
          "data": {
            "text/plain": [
              "array([[909],\n",
              "       [893],\n",
              "       [910],\n",
              "       [900],\n",
              "       [902],\n",
              "       [908],\n",
              "       [898],\n",
              "       [905],\n",
              "       [896],\n",
              "       [894]])"
            ]
          },
          "metadata": {
            "tags": []
          },
          "execution_count": 19
        }
      ]
    },
    {
      "cell_type": "code",
      "metadata": {
        "id": "be_bAhJCS5-J",
        "colab_type": "code",
        "colab": {
          "base_uri": "https://localhost:8080/",
          "height": 187
        },
        "outputId": "877017e9-ef18-4935-b04d-756c85bea8fd"
      },
      "source": [
        "X_train"
      ],
      "execution_count": 20,
      "outputs": [
        {
          "output_type": "execute_result",
          "data": {
            "text/plain": [
              "array([[897],\n",
              "       [905],\n",
              "       [901],\n",
              "       [899],\n",
              "       [907],\n",
              "       [903],\n",
              "       [895],\n",
              "       [892],\n",
              "       [906],\n",
              "       [904]])"
            ]
          },
          "metadata": {
            "tags": []
          },
          "execution_count": 20
        }
      ]
    },
    {
      "cell_type": "code",
      "metadata": {
        "id": "GKvwpohQS2Ss",
        "colab_type": "code",
        "colab": {}
      },
      "source": [
        ""
      ],
      "execution_count": 0,
      "outputs": []
    },
    {
      "cell_type": "code",
      "metadata": {
        "id": "CPAYYivU9pc2",
        "colab_type": "code",
        "colab": {}
      },
      "source": [
        "from sklearn.linear_model import LinearRegression\n",
        "regressor = LinearRegression()\n",
        "regressor = regressor.fit(X_train, Y_train)"
      ],
      "execution_count": 0,
      "outputs": []
    },
    {
      "cell_type": "code",
      "metadata": {
        "id": "WYcEcbB59pc6",
        "colab_type": "code",
        "colab": {}
      },
      "source": [
        "Y_pred = regressor.predict(X_test)"
      ],
      "execution_count": 0,
      "outputs": []
    },
    {
      "cell_type": "code",
      "metadata": {
        "id": "UBfIy9J69pc9",
        "colab_type": "code",
        "colab": {
          "base_uri": "https://localhost:8080/",
          "height": 282
        },
        "outputId": "eae6773d-e3fa-46de-9449-184667e1dd31"
      },
      "source": [
        "plt.scatter(X_train , Y_train, color = 'red')\n",
        "plt.plot(X_train , regressor.predict(X_train), color ='yellow')"
      ],
      "execution_count": 27,
      "outputs": [
        {
          "output_type": "execute_result",
          "data": {
            "text/plain": [
              "[<matplotlib.lines.Line2D at 0x7f251889f5c0>]"
            ]
          },
          "metadata": {
            "tags": []
          },
          "execution_count": 27
        },
        {
          "output_type": "display_data",
          "data": {
            "image/png": "[encoded data removed]",
            "text/plain": [
              "<Figure size 432x288 with 1 Axes>"
            ]
          },
          "metadata": {
            "tags": []
          }
        }
      ]
    },
    {
      "cell_type": "code",
      "metadata": {
        "id": "vg964kWJ9pdB",
        "colab_type": "code",
        "colab": {
          "base_uri": "https://localhost:8080/",
          "height": 282
        },
        "outputId": "fa8b1bb4-2a3d-4f13-e3a5-d8ff81590242"
      },
      "source": [
        "plt.scatter(X_test , Y_test, color = 'red')\n",
        "plt.plot(X_test , regressor.predict(X_test), color ='blue')"
      ],
      "execution_count": 28,
      "outputs": [
        {
          "output_type": "execute_result",
          "data": {
            "text/plain": [
              "[<matplotlib.lines.Line2D at 0x7f2515b90e48>]"
            ]
          },
          "metadata": {
            "tags": []
          },
          "execution_count": 28
        },
        {
          "output_type": "display_data",
          "data": {
            "image/png": "[encoded data removed]",
            "text/plain": [
              "<Figure size 432x288 with 1 Axes>"
            ]
          },
          "metadata": {
            "tags": []
          }
        }
      ]
    },
    {
      "cell_type": "code",
      "metadata": {
        "id": "jx6qnMDp9pdF",
        "colab_type": "code",
        "colab": {
          "base_uri": "https://localhost:8080/",
          "height": 51
        },
        "outputId": "377f16f5-a07a-4f78-f30b-fcbe21030d06"
      },
      "source": [
        "from sklearn.metrics import mean_squared_error, r2_score\n",
        "import math\n",
        "print(mean_squared_error(Y_test, Y_pred))\n",
        "print(r2_score(Y_test, Y_pred))"
      ],
      "execution_count": 29,
      "outputs": [
        {
          "output_type": "stream",
          "text": [
            "0.5074895097682538\n",
            "-1.0299580390730152\n"
          ],
          "name": "stdout"
        }
      ]
    },
    {
      "cell_type": "code",
      "metadata": {
        "id": "mIOTQDmx9pdJ",
        "colab_type": "code",
        "colab": {}
      },
      "source": [
        ""
      ],
      "execution_count": 0,
      "outputs": []
    }
  ]
}