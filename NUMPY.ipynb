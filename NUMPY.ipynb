{
  "nbformat": 4,
  "nbformat_minor": 0,
  "metadata": {
    "colab": {
      "name": "Copy of NUMPY.ipynb",
      "provenance": [],
      "collapsed_sections": []
    },
    "kernelspec": {
      "name": "python3",
      "display_name": "Python 3"
    }
  },
  "cells": [
    {
      "cell_type": "code",
      "metadata": {
        "id": "O_MdLfldlT7E",
        "colab_type": "code",
        "outputId": "dd9fa320-14f5-4616-ca43-160097a9e378",
        "colab": {
          "base_uri": "https://localhost:8080/",
          "height": 85
        }
      },
      "source": [
        "my_list = [1,2,3]\n",
        "import numpy as np\n",
        "arr = np.array(my_list)\n",
        "print(\"Type/Class of this object:\",type(arr))\n",
        "print(\"Here is the vector\\n--------------------\\n\",arr)"
      ],
      "execution_count": 1,
      "outputs": [
        {
          "output_type": "stream",
          "text": [
            "Type/Class of this object: <class 'numpy.ndarray'>\n",
            "Here is the vector\n",
            "--------------------\n",
            " [1 2 3]\n"
          ],
          "name": "stdout"
        }
      ]
    },
    {
      "cell_type": "code",
      "metadata": {
        "id": "4Y3qw9i8-HJG",
        "colab_type": "code",
        "colab": {}
      },
      "source": [
        ""
      ],
      "execution_count": 0,
      "outputs": []
    },
    {
      "cell_type": "code",
      "metadata": {
        "id": "Is0v_jLmlfQS",
        "colab_type": "code",
        "outputId": "9cc05aed-926c-4f6e-f5f0-3523686879a7",
        "colab": {
          "base_uri": "https://localhost:8080/",
          "height": 204
        }
      },
      "source": [
        "my_mat = [[1,2,3],[4,5,6],[7,8,9]]\n",
        "mat = np.array(my_mat)\n",
        "print(\"Type/Class of this object:\",type(mat))\n",
        "print(\"Here is the matrix\\n----------\\n\",mat,\"\\n----------\")\n",
        "print(\"Dimension of this matrix: \",mat.ndim,sep='') #ndim gives the dimensison, 2 for a matrix, 1 for a vector\n",
        "print(\"Size of this matrix: \", mat.size,sep='') #size gives the total number of elements\n",
        "print(\"Shape of this matrix: \", mat.shape,sep='') #shape gives the number of elements along each axes (dimension)\n",
        "print(\"Data type of this matrix: \", mat.dtype,sep='') #dtype gives the data type contained in the array"
      ],
      "execution_count": 2,
      "outputs": [
        {
          "output_type": "stream",
          "text": [
            "Type/Class of this object: <class 'numpy.ndarray'>\n",
            "Here is the matrix\n",
            "----------\n",
            " [[1 2 3]\n",
            " [4 5 6]\n",
            " [7 8 9]] \n",
            "----------\n",
            "Dimension of this matrix: 2\n",
            "Size of this matrix: 9\n",
            "Shape of this matrix: (3, 3)\n",
            "Data type of this matrix: int64\n"
          ],
          "name": "stdout"
        }
      ]
    },
    {
      "cell_type": "code",
      "metadata": {
        "id": "oIDJO7sVlzk7",
        "colab_type": "code",
        "outputId": "080baf7b-54a7-46de-e850-39c28e518304",
        "colab": {
          "base_uri": "https://localhost:8080/",
          "height": 34
        }
      },
      "source": [
        "print(\"A series of numbers:\",np.arange(5,16)) # A series of numbers from low to high"
      ],
      "execution_count": 4,
      "outputs": [
        {
          "output_type": "stream",
          "text": [
            "A series of numbers: [ 5  6  7  8  9 10 11 12 13 14 15]\n"
          ],
          "name": "stdout"
        }
      ]
    },
    {
      "cell_type": "code",
      "metadata": {
        "id": "0hVcxLtfl67h",
        "colab_type": "code",
        "colab": {
          "base_uri": "https://localhost:8080/",
          "height": 34
        },
        "outputId": "9484d6e2-5f98-4067-e895-947ff81bf34a"
      },
      "source": [
        "print(\"Numbers spaced apart by 2:\",np.arange(0,11,2)) # Numbers spaced apart by 2"
      ],
      "execution_count": 5,
      "outputs": [
        {
          "output_type": "stream",
          "text": [
            "Numbers spaced apart by 2: [ 0  2  4  6  8 10]\n"
          ],
          "name": "stdout"
        }
      ]
    },
    {
      "cell_type": "code",
      "metadata": {
        "id": "4f7fJ91EmAjP",
        "colab_type": "code",
        "colab": {
          "base_uri": "https://localhost:8080/",
          "height": 34
        },
        "outputId": "82d2e8fd-6ddf-4eb4-8fe7-e6b2f7fff61d"
      },
      "source": [
        "print(\"Numbers spaced apart by float:\",np.arange(0,11,2.5)) # Numbers spaced apart by 2.5"
      ],
      "execution_count": 6,
      "outputs": [
        {
          "output_type": "stream",
          "text": [
            "Numbers spaced apart by float: [ 0.   2.5  5.   7.5 10. ]\n"
          ],
          "name": "stdout"
        }
      ]
    },
    {
      "cell_type": "code",
      "metadata": {
        "id": "vUFpbXYemFoN",
        "colab_type": "code",
        "colab": {
          "base_uri": "https://localhost:8080/",
          "height": 51
        },
        "outputId": "999dfdd5-7ec2-4781-f7fe-5fb33d8c45dd"
      },
      "source": [
        "print(\"Every 5th number from 50 in reverse order\\n\",np.arange(50,-1,-5))"
      ],
      "execution_count": 7,
      "outputs": [
        {
          "output_type": "stream",
          "text": [
            "Every 5th number from 50 in reverse order\n",
            " [50 45 40 35 30 25 20 15 10  5  0]\n"
          ],
          "name": "stdout"
        }
      ]
    },
    {
      "cell_type": "code",
      "metadata": {
        "id": "LWEV02IhmOPn",
        "colab_type": "code",
        "colab": {
          "base_uri": "https://localhost:8080/",
          "height": 85
        },
        "outputId": "3be9bd71-88c0-4b41-bbd5-1f859ed189e6"
      },
      "source": [
        "print(\"21 linearly spaced numbers between 1 and 5\\n--------------------------------------------\")\n",
        "print(np.linspace(1,5,21))"
      ],
      "execution_count": 8,
      "outputs": [
        {
          "output_type": "stream",
          "text": [
            "21 linearly spaced numbers between 1 and 5\n",
            "--------------------------------------------\n",
            "[1.  1.2 1.4 1.6 1.8 2.  2.2 2.4 2.6 2.8 3.  3.2 3.4 3.6 3.8 4.  4.2 4.4\n",
            " 4.6 4.8 5. ]\n"
          ],
          "name": "stdout"
        }
      ]
    },
    {
      "cell_type": "markdown",
      "metadata": {
        "id": "zApjqOA8mXNs",
        "colab_type": "text"
      },
      "source": [
        "# Zeroes, Ones, empty, and Identity **matriX**\n",
        "\n",
        "> Indented block\n",
        "\n"
      ]
    },
    {
      "cell_type": "code",
      "metadata": {
        "id": "wO5PVJ6VmYwT",
        "colab_type": "code",
        "colab": {
          "base_uri": "https://localhost:8080/",
          "height": 153
        },
        "outputId": "2dfc8cb1-27c2-453d-fa91-2e0b61b6707c"
      },
      "source": [
        "print(\"Vector of zeroes\\n---------------------\")\n",
        "print(np.zeros(5))\n",
        "print(\"Matrix of zeroes\\n--------------------\")\n",
        "print(np.zeros((3,4))) # Notice Tuples"
      ],
      "execution_count": 9,
      "outputs": [
        {
          "output_type": "stream",
          "text": [
            "Vector of zeroes\n",
            "---------------------\n",
            "[0. 0. 0. 0. 0.]\n",
            "Matrix of zeroes\n",
            "--------------------\n",
            "[[0. 0. 0. 0.]\n",
            " [0. 0. 0. 0.]\n",
            " [0. 0. 0. 0.]]\n"
          ],
          "name": "stdout"
        }
      ]
    },
    {
      "cell_type": "code",
      "metadata": {
        "id": "PaErV1uZmsnb",
        "colab_type": "code",
        "colab": {
          "base_uri": "https://localhost:8080/",
          "height": 272
        },
        "outputId": "985bf29d-b7df-4590-ee04-dfb09950bf5a"
      },
      "source": [
        "print(\"Vector of ones\\n---------------------\")\n",
        "print(np.ones(5))\n",
        "print(\"Matrix of ones\\n---------------------\")\n",
        "print(np.ones((5,2))) # Note matrix dimension specified by Tuples\n",
        "print(\"Matrix of 5's\\n---------------------\")\n",
        "print(5*np.ones((3,5)))"
      ],
      "execution_count": 10,
      "outputs": [
        {
          "output_type": "stream",
          "text": [
            "Vector of ones\n",
            "---------------------\n",
            "[1. 1. 1. 1. 1.]\n",
            "Matrix of ones\n",
            "---------------------\n",
            "[[1. 1.]\n",
            " [1. 1.]\n",
            " [1. 1.]\n",
            " [1. 1.]\n",
            " [1. 1.]]\n",
            "Matrix of 5's\n",
            "---------------------\n",
            "[[5. 5. 5. 5. 5.]\n",
            " [5. 5. 5. 5. 5.]\n",
            " [5. 5. 5. 5. 5.]]\n"
          ],
          "name": "stdout"
        }
      ]
    },
    {
      "cell_type": "code",
      "metadata": {
        "id": "ZWtph-h9myZY",
        "colab_type": "code",
        "colab": {
          "base_uri": "https://localhost:8080/",
          "height": 187
        },
        "outputId": "e9c34804-b1d3-48e5-9035-ae343d848f31"
      },
      "source": [
        "print(\"Empty matrix\\n-------------\\n\", np.empty((4,6)))"
      ],
      "execution_count": 11,
      "outputs": [
        {
          "output_type": "stream",
          "text": [
            "Empty matrix\n",
            "-------------\n",
            " [[1.01362666e-316 1.23275386e-316 1.23271829e-316 1.23267086e-316\n",
            "  0.00000000e+000 1.23265663e-316]\n",
            " [0.00000000e+000 1.23271118e-316 1.23264240e-316 1.23264952e-316\n",
            "  1.23278944e-316 1.23276809e-316]\n",
            " [0.00000000e+000 1.23268272e-316 1.23273252e-316 1.23268983e-316\n",
            "  0.00000000e+000 2.02807861e-316]\n",
            " [0.00000000e+000 0.00000000e+000 1.23277521e-316 0.00000000e+000\n",
            "  1.23274675e-316 0.00000000e+000]]\n"
          ],
          "name": "stdout"
        }
      ]
    },
    {
      "cell_type": "code",
      "metadata": {
        "id": "l8Q8E6-lm9_o",
        "colab_type": "code",
        "colab": {
          "base_uri": "https://localhost:8080/",
          "height": 102
        },
        "outputId": "cd074017-1297-464d-ee76-0c954b2e677a"
      },
      "source": [
        "mat1 = np.eye(4) \n",
        "print(\"Identity matrix of dimension\", mat1.shape)\n",
        "print(mat1)"
      ],
      "execution_count": 12,
      "outputs": [
        {
          "output_type": "stream",
          "text": [
            "Identity matrix of dimension (4, 4)\n",
            "[[1. 0. 0. 0.]\n",
            " [0. 1. 0. 0.]\n",
            " [0. 0. 1. 0.]\n",
            " [0. 0. 0. 1.]]\n"
          ],
          "name": "stdout"
        }
      ]
    },
    {
      "cell_type": "code",
      "metadata": {
        "id": "nFcq2ROPnKHs",
        "colab_type": "code",
        "colab": {
          "base_uri": "https://localhost:8080/",
          "height": 68
        },
        "outputId": "b5dc12ee-44ab-452f-f0e7-511f776a6c49"
      },
      "source": [
        "print(\"Random number generation (from Uniform distribution)\")\n",
        "print(np.random.rand(2,3)) # 2 by 3 matrix with random numbers ranging from 0 to 1, Note no Tuple is necessary"
      ],
      "execution_count": 13,
      "outputs": [
        {
          "output_type": "stream",
          "text": [
            "Random number generation (from Uniform distribution)\n",
            "[[0.98699671 0.23387721 0.623497  ]\n",
            " [0.97062496 0.32961322 0.07336413]]\n"
          ],
          "name": "stdout"
        }
      ]
    },
    {
      "cell_type": "code",
      "metadata": {
        "id": "c1dZONW3nabN",
        "colab_type": "code",
        "colab": {
          "base_uri": "https://localhost:8080/",
          "height": 102
        },
        "outputId": "1a933a8c-f6be-40ac-ea7b-770cfdcdfc26"
      },
      "source": [
        "print(\"Numbers from Normal distribution with zero mean and standard deviation 1 i.e. standard normal\")\n",
        "print(np.random.randn(4,3))"
      ],
      "execution_count": 15,
      "outputs": [
        {
          "output_type": "stream",
          "text": [
            "Numbers from Normal distribution with zero mean and standard deviation 1 i.e. standard normal\n",
            "[[ 0.94498615  0.98507113 -1.16433642]\n",
            " [-0.60816162  0.10973303  0.40189544]\n",
            " [ 0.67382913  0.17556903  1.50562386]\n",
            " [-0.05024926 -0.80499267  2.22894008]]\n"
          ],
          "name": "stdout"
        }
      ]
    },
    {
      "cell_type": "code",
      "metadata": {
        "id": "uEvnFLDnnoAK",
        "colab_type": "code",
        "colab": {
          "base_uri": "https://localhost:8080/",
          "height": 170
        },
        "outputId": "455ad145-5e0d-4d90-dd7a-953b97dc2091"
      },
      "source": [
        "print(\"Random integer vector:\",np.random.randint(1,100,10)) #randint (low, high, # of samples to be drawn)\n",
        "print (\"\\nRandom integer matrix\")\n",
        "print(np.random.randint(1,100,(4,4))) #randint (low, high, # of samples to be drawn in a tuple to form a matrix)\n",
        "print(\"\\n20 samples drawn from a dice throw:\",np.random.randint(1,7,20)) # 20 samples drawn from a dice throw"
      ],
      "execution_count": 16,
      "outputs": [
        {
          "output_type": "stream",
          "text": [
            "Random integer vector: [46 92 87 35 28 62 45 14 53 81]\n",
            "\n",
            "Random integer matrix\n",
            "[[76 23 57 16]\n",
            " [55  2 82 13]\n",
            " [58 43 25 69]\n",
            " [74 34 74 59]]\n",
            "\n",
            "20 samples drawn from a dice throw: [3 2 4 3 3 3 6 5 3 4 2 5 1 1 2 3 4 1 4 4]\n"
          ],
          "name": "stdout"
        }
      ]
    },
    {
      "cell_type": "markdown",
      "metadata": {
        "id": "dBS6rFC0nvTF",
        "colab_type": "text"
      },
      "source": [
        "# Reshaping, min, max, **sort**"
      ]
    },
    {
      "cell_type": "code",
      "metadata": {
        "id": "R8rKzQ3unymM",
        "colab_type": "code",
        "colab": {
          "base_uri": "https://localhost:8080/",
          "height": 1000
        },
        "outputId": "12a528cf-b0b3-4128-d116-b1c1a6872ad8"
      },
      "source": [
        "from numpy.random import randint as ri\n",
        "a = ri(1,100,30)\n",
        "b = a.reshape(2,3,5)\n",
        "c = a.reshape(6,5)\n",
        "print (\"Shape of a:\", a.shape)\n",
        "print (\"Shape of b:\", b.shape)\n",
        "print (\"Shape of c:\", c.shape)\n",
        "print(\"\\na looks like\\n\",'-'*20,\"\\n\",a,\"\\n\",'-'*20)\n",
        "print(\"\\nb looks like\\n\",'-'*20,\"\\n\",b,\"\\n\",'-'*20)\n",
        "print(\"\\nc looks like\\n\",'-'*20,\"\\n\",c,\"\\n\",'-'*20)\n",
        "\n",
        "A = ri(1,100,10) # Vector of random interegrs\n",
        "print(\"\\nVector of random integers\\n\",'-'*50,\"\\n\",A)\n",
        "print(\"\\nHere is the sorted vector\\n\",'-'*50,\"\\n\",np.sort(A, kind='mergesort'))\n",
        "\n",
        "M = ri(1,100,25).reshape(5,5) # Matrix of random interegrs\n",
        "print(\"\\n5x5 Matrix of random integers\\n\",'-'*50,\"\\n\",M)\n",
        "print(\"\\nHere is the sorted matrix along each row\\n\",'-'*50,\"\\n\",np.sort(M, kind='mergesort')) # Default axis =1\n",
        "print(\"\\nHere is the sorted matrix along each column\\n\",'-'*50,\"\\n\",np.sort(M, axis=0, kind='mergesort'))"
      ],
      "execution_count": 17,
      "outputs": [
        {
          "output_type": "stream",
          "text": [
            "Shape of a: (30,)\n",
            "Shape of b: (2, 3, 5)\n",
            "Shape of c: (6, 5)\n",
            "\n",
            "a looks like\n",
            " -------------------- \n",
            " [36 97 54 19 92 40 72 77 58 75 20 68 37 32 32 78  3  2  6 76 31 91 24 10\n",
            " 97 18 51 23 25 41] \n",
            " --------------------\n",
            "\n",
            "b looks like\n",
            " -------------------- \n",
            " [[[36 97 54 19 92]\n",
            "  [40 72 77 58 75]\n",
            "  [20 68 37 32 32]]\n",
            "\n",
            " [[78  3  2  6 76]\n",
            "  [31 91 24 10 97]\n",
            "  [18 51 23 25 41]]] \n",
            " --------------------\n",
            "\n",
            "c looks like\n",
            " -------------------- \n",
            " [[36 97 54 19 92]\n",
            " [40 72 77 58 75]\n",
            " [20 68 37 32 32]\n",
            " [78  3  2  6 76]\n",
            " [31 91 24 10 97]\n",
            " [18 51 23 25 41]] \n",
            " --------------------\n",
            "\n",
            "Vector of random integers\n",
            " -------------------------------------------------- \n",
            " [17 87 12 53 94 53 51 55  5 45]\n",
            "\n",
            "Here is the sorted vector\n",
            " -------------------------------------------------- \n",
            " [ 5 12 17 45 51 53 53 55 87 94]\n",
            "\n",
            "5x5 Matrix of random integers\n",
            " -------------------------------------------------- \n",
            " [[23 39 22 95 62]\n",
            " [24 80 53 21 38]\n",
            " [40 85 26 34 86]\n",
            " [81 50 77 33 86]\n",
            " [73 16 35 18 87]]\n",
            "\n",
            "Here is the sorted matrix along each row\n",
            " -------------------------------------------------- \n",
            " [[22 23 39 62 95]\n",
            " [21 24 38 53 80]\n",
            " [26 34 40 85 86]\n",
            " [33 50 77 81 86]\n",
            " [16 18 35 73 87]]\n",
            "\n",
            "Here is the sorted matrix along each column\n",
            " -------------------------------------------------- \n",
            " [[23 16 22 18 38]\n",
            " [24 39 26 21 62]\n",
            " [40 50 35 33 86]\n",
            " [73 80 53 34 86]\n",
            " [81 85 77 95 87]]\n"
          ],
          "name": "stdout"
        }
      ]
    },
    {
      "cell_type": "code",
      "metadata": {
        "id": "eKnOZVn2qAi2",
        "colab_type": "code",
        "colab": {
          "base_uri": "https://localhost:8080/",
          "height": 102
        },
        "outputId": "d5debee7-ef42-4dd3-cfcc-a3ba8647c296"
      },
      "source": [
        "print(\"Max of a:\", a.max())\n",
        "print(\"Max of b:\", b.max())\n",
        "print(\"Max of a location:\", a.argmax())\n",
        "print(\"Max of b location:\", b.argmax())\n",
        "print(\"Max of c location:\", b.argmax())"
      ],
      "execution_count": 18,
      "outputs": [
        {
          "output_type": "stream",
          "text": [
            "Max of a: 97\n",
            "Max of b: 97\n",
            "Max of a location: 1\n",
            "Max of b location: 1\n",
            "Max of c location: 1\n"
          ],
          "name": "stdout"
        }
      ]
    },
    {
      "cell_type": "code",
      "metadata": {
        "id": "NFomfGS1qXH_",
        "colab_type": "code",
        "colab": {
          "base_uri": "https://localhost:8080/",
          "height": 153
        },
        "outputId": "fb969b9f-4f0c-4a68-ce9f-f183d769eef8"
      },
      "source": [
        "arr = np.arange(0,11)\n",
        "print(\"Array:\",arr)\n",
        "print(\"Element at 7th index is:\", arr[7])\n",
        "print(\"Elements from 3rd to 5th index are:\", arr[3:6])\n",
        "print(\"Elements up to 4th index are:\", arr[:4])\n",
        "print(\"Elements from last backwards are:\", arr[-1::-1])\n",
        "print(\"3 Elements from last backwards are:\", arr[-1:-6:-2])\n",
        "\n",
        "arr = np.arange(0,21,2)\n",
        "print(\"New array:\",arr)\n",
        "print(\"Elements at 2nd, 4th, and 9th index are:\", arr[[2,4,9]]) # Pass a list as a index to subset"
      ],
      "execution_count": 19,
      "outputs": [
        {
          "output_type": "stream",
          "text": [
            "Array: [ 0  1  2  3  4  5  6  7  8  9 10]\n",
            "Element at 7th index is: 7\n",
            "Elements from 3rd to 5th index are: [3 4 5]\n",
            "Elements up to 4th index are: [0 1 2 3]\n",
            "Elements from last backwards are: [10  9  8  7  6  5  4  3  2  1  0]\n",
            "3 Elements from last backwards are: [10  8  6]\n",
            "New array: [ 0  2  4  6  8 10 12 14 16 18 20]\n",
            "Elements at 2nd, 4th, and 9th index are: [ 4  8 18]\n"
          ],
          "name": "stdout"
        }
      ]
    },
    {
      "cell_type": "code",
      "metadata": {
        "id": "GDJnlCYyqhyD",
        "colab_type": "code",
        "colab": {
          "base_uri": "https://localhost:8080/",
          "height": 476
        },
        "outputId": "29071805-a01f-4642-b684-20eb0169dac4"
      },
      "source": [
        "mat = np.array(ri(10,100,15)).reshape(3,5)\n",
        "print(\"Matrix of random 2-digit numbers\\n--------------------------------\\n\",mat)\n",
        "\n",
        "print(\"\\nDouble bracket indexing\\n------------------------\")\n",
        "print(\"Element in row index 1 and column index 2:\", mat[1][2])\n",
        "\n",
        "print(\"\\nSingle bracket with comma indexing\\n----------------------------------\")\n",
        "print(\"Element in row index 1 and column index 2:\", mat[1,2])\n",
        "print(\"\\nRow or column extract\\n----------------------\")\n",
        "\n",
        "print(\"Entire row at index 2:\", mat[2])\n",
        "print(\"Entire column at index 3:\", mat[:,3])\n",
        "\n",
        "print(\"\\nSubsetting sub-matrices\\n--------------------------\")\n",
        "print(\"Matrix with row indices 1 and 2 and column indices 3 and 4\\n\", mat[1:3,3:5])\n",
        "print(\"Matrix with row indices 0 and 1 and column indices 1 and 3\\n\", mat[0:2,[1,3]])"
      ],
      "execution_count": 20,
      "outputs": [
        {
          "output_type": "stream",
          "text": [
            "Matrix of random 2-digit numbers\n",
            "--------------------------------\n",
            " [[58 60 65 22 50]\n",
            " [92 80 10 85 48]\n",
            " [44 95 30 27 58]]\n",
            "\n",
            "Double bracket indexing\n",
            "------------------------\n",
            "Element in row index 1 and column index 2: 10\n",
            "\n",
            "Single bracket with comma indexing\n",
            "----------------------------------\n",
            "Element in row index 1 and column index 2: 10\n",
            "\n",
            "Row or column extract\n",
            "----------------------\n",
            "Entire row at index 2: [44 95 30 27 58]\n",
            "Entire column at index 3: [22 85 27]\n",
            "\n",
            "Subsetting sub-matrices\n",
            "--------------------------\n",
            "Matrix with row indices 1 and 2 and column indices 3 and 4\n",
            " [[85 48]\n",
            " [27 58]]\n",
            "Matrix with row indices 0 and 1 and column indices 1 and 3\n",
            " [[60 22]\n",
            " [80 85]]\n"
          ],
          "name": "stdout"
        }
      ]
    },
    {
      "cell_type": "code",
      "metadata": {
        "id": "IpqGmbeDrGub",
        "colab_type": "code",
        "colab": {
          "base_uri": "https://localhost:8080/",
          "height": 935
        },
        "outputId": "d8ce62d3-31a4-4832-f44f-52f135fb9925"
      },
      "source": [
        "mat1 = np.array(ri(1,10,9)).reshape(3,3)\n",
        "mat2 = np.array(ri(1,10,9)).reshape(3,3)\n",
        "print(\"\\n1st Matrix of random single-digit numbers\\n----------------------------------------\\n\",mat1)\n",
        "print(\"\\n2nd Matrix of random single-digit numbers\\n----------------------------------------\\n\",mat2)\n",
        "\n",
        "print(\"\\nAddition\\n------------------\\n\", mat1+mat2)\n",
        "print(\"\\nMultiplication\\n------------------\\n\", mat1*mat2)\n",
        "print(\"\\nDivision\\n------------------\\n\", mat1/mat2)\n",
        "print(\"\\nLineaer combination: 3*A - 2*B\\n-----------------------------\\n\", 3*mat1-2*mat2)\n",
        "\n",
        "print(\"\\nAddition of a scalar (100)\\n-------------------------\\n\", 100+mat1)\n",
        "\n",
        "print(\"\\nExponentiation, matrix cubed here\\n----------------------------------------\\n\", mat1**3)\n",
        "print(\"\\nExponentiation, sq-root using pow function\\n-------------------------------------------\\n\",pow(mat1,0.5))"
      ],
      "execution_count": 21,
      "outputs": [
        {
          "output_type": "stream",
          "text": [
            "\n",
            "1st Matrix of random single-digit numbers\n",
            "----------------------------------------\n",
            " [[1 4 7]\n",
            " [6 7 1]\n",
            " [9 4 1]]\n",
            "\n",
            "2nd Matrix of random single-digit numbers\n",
            "----------------------------------------\n",
            " [[6 7 5]\n",
            " [9 3 9]\n",
            " [6 5 7]]\n",
            "\n",
            "Addition\n",
            "------------------\n",
            " [[ 7 11 12]\n",
            " [15 10 10]\n",
            " [15  9  8]]\n",
            "\n",
            "Multiplication\n",
            "------------------\n",
            " [[ 6 28 35]\n",
            " [54 21  9]\n",
            " [54 20  7]]\n",
            "\n",
            "Division\n",
            "------------------\n",
            " [[0.16666667 0.57142857 1.4       ]\n",
            " [0.66666667 2.33333333 0.11111111]\n",
            " [1.5        0.8        0.14285714]]\n",
            "\n",
            "Lineaer combination: 3*A - 2*B\n",
            "-----------------------------\n",
            " [[ -9  -2  11]\n",
            " [  0  15 -15]\n",
            " [ 15   2 -11]]\n",
            "\n",
            "Addition of a scalar (100)\n",
            "-------------------------\n",
            " [[101 104 107]\n",
            " [106 107 101]\n",
            " [109 104 101]]\n",
            "\n",
            "Exponentiation, matrix cubed here\n",
            "----------------------------------------\n",
            " [[  1  64 343]\n",
            " [216 343   1]\n",
            " [729  64   1]]\n",
            "\n",
            "Exponentiation, sq-root using pow function\n",
            "-------------------------------------------\n",
            " [[1.         2.         2.64575131]\n",
            " [2.44948974 2.64575131 1.        ]\n",
            " [3.         2.         1.        ]]\n"
          ],
          "name": "stdout"
        }
      ]
    },
    {
      "cell_type": "markdown",
      "metadata": {
        "id": "jW7KTVItrLGY",
        "colab_type": "text"
      },
      "source": [
        "**Broadcasting (super cool feature)**\n",
        "NumPy operations are usually done on pairs of arrays on an element-by-element basis. In the simplest case, the two arrays must have exactly the same shape.\n",
        "\n",
        "NumPy’s broadcasting rule relaxes this constraint when the arrays’ shapes meet certain constraints. When operating on two arrays, NumPy compares their shapes element-wise. It starts with the trailing dimensions, and works its way forward. Two dimensions are compatible when\n",
        "\n",
        "they are equal, or\n",
        "one of them is 1\n",
        "If these conditions are not met, a ValueError: frames are not aligned exception is thrown, indicating that the arrays have incompatible shapes. The size of the resulting array is the maximum size along each dimension of the input arrays.\n",
        "\n",
        "For more detail, please look up: https://docs.scipy.org/doc/numpy-1.10.1/user/basics.broadcasting.html"
      ]
    },
    {
      "cell_type": "code",
      "metadata": {
        "id": "bBVpELDprRec",
        "colab_type": "code",
        "colab": {
          "base_uri": "https://localhost:8080/",
          "height": 85
        },
        "outputId": "b0d1eda4-40cc-49aa-f342-c5b0ebe01e0b"
      },
      "source": [
        "start = np.zeros((4,3))\n",
        "print(start)"
      ],
      "execution_count": 22,
      "outputs": [
        {
          "output_type": "stream",
          "text": [
            "[[0. 0. 0.]\n",
            " [0. 0. 0.]\n",
            " [0. 0. 0.]\n",
            " [0. 0. 0.]]\n"
          ],
          "name": "stdout"
        }
      ]
    },
    {
      "cell_type": "code",
      "metadata": {
        "id": "ffhOZbvArf_3",
        "colab_type": "code",
        "colab": {
          "base_uri": "https://localhost:8080/",
          "height": 34
        },
        "outputId": "8a1e80a5-b28c-4508-cd84-f5a6b2682483"
      },
      "source": [
        "# create a rank 1 ndarray with 3 values\n",
        "add_rows = np.array([1, 0, 2])\n",
        "print(add_rows)"
      ],
      "execution_count": 23,
      "outputs": [
        {
          "output_type": "stream",
          "text": [
            "[1 0 2]\n"
          ],
          "name": "stdout"
        }
      ]
    },
    {
      "cell_type": "code",
      "metadata": {
        "id": "Kw17ypLpri_-",
        "colab_type": "code",
        "colab": {
          "base_uri": "https://localhost:8080/",
          "height": 85
        },
        "outputId": "15732815-ce05-44b2-b3be-8cc8d2e53abb"
      },
      "source": [
        "y = start + add_rows  # add to each row of 'start' using broadcasting\n",
        "print(y)"
      ],
      "execution_count": 24,
      "outputs": [
        {
          "output_type": "stream",
          "text": [
            "[[1. 0. 2.]\n",
            " [1. 0. 2.]\n",
            " [1. 0. 2.]\n",
            " [1. 0. 2.]]\n"
          ],
          "name": "stdout"
        }
      ]
    },
    {
      "cell_type": "code",
      "metadata": {
        "id": "YCSicCsdrpAJ",
        "colab_type": "code",
        "colab": {
          "base_uri": "https://localhost:8080/",
          "height": 85
        },
        "outputId": "fce50059-b7e8-46b7-c7d0-5c692b84b81e"
      },
      "source": [
        "# create an ndarray which is 4 x 1 to broadcast across columns\n",
        "add_cols = np.array([[0,1,2,3]])\n",
        "add_cols = add_cols.T\n",
        "print(add_cols)"
      ],
      "execution_count": 25,
      "outputs": [
        {
          "output_type": "stream",
          "text": [
            "[[0]\n",
            " [1]\n",
            " [2]\n",
            " [3]]\n"
          ],
          "name": "stdout"
        }
      ]
    },
    {
      "cell_type": "code",
      "metadata": {
        "id": "wXnMcNFsryug",
        "colab_type": "code",
        "colab": {
          "base_uri": "https://localhost:8080/",
          "height": 85
        },
        "outputId": "0a0401be-2dd2-4e5d-cc94-23f5b6e4567f"
      },
      "source": [
        "# add to each column of 'start' using broadcasting\n",
        "y = start + add_cols \n",
        "print(y)"
      ],
      "execution_count": 26,
      "outputs": [
        {
          "output_type": "stream",
          "text": [
            "[[0. 0. 0.]\n",
            " [1. 1. 1.]\n",
            " [2. 2. 2.]\n",
            " [3. 3. 3.]]\n"
          ],
          "name": "stdout"
        }
      ]
    },
    {
      "cell_type": "code",
      "metadata": {
        "id": "c5GCTnJRr2vD",
        "colab_type": "code",
        "colab": {
          "base_uri": "https://localhost:8080/",
          "height": 85
        },
        "outputId": "c597731f-ab8e-482d-a1b9-f76b1a03e9b0"
      },
      "source": [
        "# this will just broadcast in both dimensions\n",
        "add_scalar = np.array([100])  \n",
        "print(start+add_scalar)"
      ],
      "execution_count": 27,
      "outputs": [
        {
          "output_type": "stream",
          "text": [
            "[[100. 100. 100.]\n",
            " [100. 100. 100.]\n",
            " [100. 100. 100.]\n",
            " [100. 100. 100.]]\n"
          ],
          "name": "stdout"
        }
      ]
    },
    {
      "cell_type": "markdown",
      "metadata": {
        "id": "dUfHAQn3sGez",
        "colab_type": "text"
      },
      "source": [
        "# Linear Algebra Operations\n",
        "# Dot/Inner/Outer products"
      ]
    },
    {
      "cell_type": "code",
      "metadata": {
        "id": "a-7RUFdDsO-t",
        "colab_type": "code",
        "colab": {
          "base_uri": "https://localhost:8080/",
          "height": 663
        },
        "outputId": "1a2cba47-d91b-4cd6-d5b5-5872c8190ff4"
      },
      "source": [
        "A = np.arange(1,10).reshape(3,3)\n",
        "B = ri(1,10,9).reshape(3,3)\n",
        "print(\"\\n1st Matrix of 1-9 single-digit numbers (A)\\n\",\"-\"*50,\"\\n\",A)\n",
        "print(\"\\n2nd Matrix of random single-digit numbers (B)\\n\",\"-\"*50,\"\\n\",B)\n",
        "\n",
        "print(\"\\nDot product of A and B (for 2D arrays it is equivalent to matrix multiplication) \\n\",\"-\"*80,\"\\n\",np.dot(A,B))\n",
        "\n",
        "A = np.arange(1,6)\n",
        "B = ri(1,10,5)\n",
        "print(\"\\n1st Vector of 1-5 numbers (A)\\n\",\"-\"*50,\"\\n\",A)\n",
        "print(\"\\n2nd Vector of 5 random single-digit numbers (B)\\n\",\"-\"*50,\"\\n\",B)\n",
        "\n",
        "print(\"\\nInner product of vectors A and B \\n\",\"-\"*50,\"\\n\",np.inner(A,B), \"(sum of all pairwise elements)\")\n",
        "print(\"\\nOuter product of vectors A and B \\n\",\"-\"*50,\"\\n\",np.outer(A,B))"
      ],
      "execution_count": 28,
      "outputs": [
        {
          "output_type": "stream",
          "text": [
            "\n",
            "1st Matrix of 1-9 single-digit numbers (A)\n",
            " -------------------------------------------------- \n",
            " [[1 2 3]\n",
            " [4 5 6]\n",
            " [7 8 9]]\n",
            "\n",
            "2nd Matrix of random single-digit numbers (B)\n",
            " -------------------------------------------------- \n",
            " [[3 5 1]\n",
            " [2 2 4]\n",
            " [7 8 2]]\n",
            "\n",
            "Dot product of A and B (for 2D arrays it is equivalent to matrix multiplication) \n",
            " -------------------------------------------------------------------------------- \n",
            " [[ 28  33  15]\n",
            " [ 64  78  36]\n",
            " [100 123  57]]\n",
            "\n",
            "1st Vector of 1-5 numbers (A)\n",
            " -------------------------------------------------- \n",
            " [1 2 3 4 5]\n",
            "\n",
            "2nd Vector of 5 random single-digit numbers (B)\n",
            " -------------------------------------------------- \n",
            " [9 3 8 3 2]\n",
            "\n",
            "Inner product of vectors A and B \n",
            " -------------------------------------------------- \n",
            " 61 (sum of all pairwise elements)\n",
            "\n",
            "Outer product of vectors A and B \n",
            " -------------------------------------------------- \n",
            " [[ 9  3  8  3  2]\n",
            " [18  6 16  6  4]\n",
            " [27  9 24  9  6]\n",
            " [36 12 32 12  8]\n",
            " [45 15 40 15 10]]\n"
          ],
          "name": "stdout"
        }
      ]
    },
    {
      "cell_type": "markdown",
      "metadata": {
        "id": "Vhug9wfCson2",
        "colab_type": "text"
      },
      "source": [
        "# TRANSPOSE"
      ]
    },
    {
      "cell_type": "markdown",
      "metadata": {
        "id": "twpvg16JsqU0",
        "colab_type": "text"
      },
      "source": [
        ""
      ]
    },
    {
      "cell_type": "code",
      "metadata": {
        "id": "jZQbgfO8skG0",
        "colab_type": "code",
        "colab": {
          "base_uri": "https://localhost:8080/",
          "height": 510
        },
        "outputId": "415b33c0-6304-402b-f4dc-934ac429e9a3"
      },
      "source": [
        "A = ri(1,10,9).reshape(3,3)\n",
        "print(\"\\n3x3 Matrix of random single-digit numbers\\n\",\"-\"*50,\"\\n\",A)\n",
        "print(\"\\nMatrix transpose\\n\",\"-\"*50,\"\\n\",np.transpose(A))\n",
        "\n",
        "B = ri(1,10,6).reshape(3,2)\n",
        "print(\"\\n3x2 Matrix of random single-digit numbers\\n\",\"-\"*50,\"\\n\",B)\n",
        "print(\"\\n2x3 Matrix transpose\\n\",\"-\"*50,\"\\n\",np.transpose(B))\n",
        "print(\"\\nMatrix multiplication of B and B-transpose\\n\",\"-\"*50,\"\\n\",np.dot(B, np.transpose(B)))"
      ],
      "execution_count": 29,
      "outputs": [
        {
          "output_type": "stream",
          "text": [
            "\n",
            "3x3 Matrix of random single-digit numbers\n",
            " -------------------------------------------------- \n",
            " [[7 1 7]\n",
            " [9 5 6]\n",
            " [4 3 7]]\n",
            "\n",
            "Matrix transpose\n",
            " -------------------------------------------------- \n",
            " [[7 9 4]\n",
            " [1 5 3]\n",
            " [7 6 7]]\n",
            "\n",
            "3x2 Matrix of random single-digit numbers\n",
            " -------------------------------------------------- \n",
            " [[6 6]\n",
            " [1 6]\n",
            " [9 1]]\n",
            "\n",
            "2x3 Matrix transpose\n",
            " -------------------------------------------------- \n",
            " [[6 1 9]\n",
            " [6 6 1]]\n",
            "\n",
            "Matrix multiplication of B and B-transpose\n",
            " -------------------------------------------------- \n",
            " [[72 42 60]\n",
            " [42 37 15]\n",
            " [60 15 82]]\n"
          ],
          "name": "stdout"
        }
      ]
    },
    {
      "cell_type": "markdown",
      "metadata": {
        "id": "RTeAONK1s-A9",
        "colab_type": "text"
      },
      "source": [
        ""
      ]
    },
    {
      "cell_type": "code",
      "metadata": {
        "id": "3aq6Gzkps9J_",
        "colab_type": "code",
        "colab": {
          "base_uri": "https://localhost:8080/",
          "height": 340
        },
        "outputId": "2e6cd8cd-f408-477c-a321-4c2ef1060a51"
      },
      "source": [
        "A = ri(1,10,16).reshape(4,4)\n",
        "print(\"\\n4x4 Matrix of random single-digit numbers\\n\",\"-\"*50,\"\\n\",A)\n",
        "print(\"\\nMatrix trace\\n\",\"-\"*50,\"\\n\",np.trace(A))\n",
        "print(\"\\nMatrix trace with ofset +1 (upper triangle)\\n\",\"-\"*50,\"\\n\",np.trace(A,offset=1))\n",
        "print(\"\\nMatrix trace with ofset -1 (lower triangle)\\n\",\"-\"*50,\"\\n\",np.trace(A,offset=-1))"
      ],
      "execution_count": 30,
      "outputs": [
        {
          "output_type": "stream",
          "text": [
            "\n",
            "4x4 Matrix of random single-digit numbers\n",
            " -------------------------------------------------- \n",
            " [[6 3 2 8]\n",
            " [7 5 8 2]\n",
            " [4 5 4 8]\n",
            " [7 4 2 8]]\n",
            "\n",
            "Matrix trace\n",
            " -------------------------------------------------- \n",
            " 23\n",
            "\n",
            "Matrix trace with ofset +1 (upper triangle)\n",
            " -------------------------------------------------- \n",
            " 19\n",
            "\n",
            "Matrix trace with ofset -1 (lower triangle)\n",
            " -------------------------------------------------- \n",
            " 14\n"
          ],
          "name": "stdout"
        }
      ]
    },
    {
      "cell_type": "markdown",
      "metadata": {
        "id": "g4SsJbAOtnvb",
        "colab_type": "text"
      },
      "source": [
        "# **Eigenvalues and eigenvectors**"
      ]
    },
    {
      "cell_type": "code",
      "metadata": {
        "id": "AASYWj-FtnJs",
        "colab_type": "code",
        "colab": {
          "base_uri": "https://localhost:8080/",
          "height": 255
        },
        "outputId": "e2016941-1820-46d6-b7b2-8d19cafc0755"
      },
      "source": [
        "A = np.random.randn(9).reshape(3,3)\n",
        "print(\"Original matrix\\n\",A)\n",
        "print(\"\\n\")\n",
        "w,v=np.linalg.eig(A)\n",
        "print(\"Eigenvalues:\\n\",w)\n",
        "print(\"\\n\")\n",
        "print(\"Eigenvectors:\\n\",v)"
      ],
      "execution_count": 31,
      "outputs": [
        {
          "output_type": "stream",
          "text": [
            "Original matrix\n",
            " [[-0.20089097 -0.44939844 -0.70778005]\n",
            " [ 0.197269    0.37830748  1.77923197]\n",
            " [-0.14668844  0.22827744  1.81328198]]\n",
            "\n",
            "\n",
            "Eigenvalues:\n",
            " [-0.058613  +0.26085704j -0.058613  -0.26085704j  2.10792449+0.j        ]\n",
            "\n",
            "\n",
            "Eigenvectors:\n",
            " [[-0.73334671+0.j         -0.73334671-0.j         -0.33495013+0.j        ]\n",
            " [ 0.37761233+0.55195592j  0.37761233-0.55195592j  0.65678382+0.j        ]\n",
            " [-0.0923441 -0.08017955j -0.0923441 +0.08017955j  0.67560597+0.j        ]]\n"
          ],
          "name": "stdout"
        }
      ]
    },
    {
      "cell_type": "markdown",
      "metadata": {
        "id": "ELYrCGdJt-sJ",
        "colab_type": "text"
      },
      "source": [
        "# Linear equation solving, matrix inverse, linear least suqare\n",
        "You can directly solve linear system of equations using NumPy writing only one line of code.\n",
        "\n",
        "Suppose you want to solve the following set of equations for (x,y,z). It is easy to see that (2,1,5) are the unique solutions.\n",
        "\n",
        "2x + 5y + z = 14;\n",
        "\n",
        "3x - 2y - z = -1;\n",
        "\n",
        "x - 3y + z = 4"
      ]
    },
    {
      "cell_type": "code",
      "metadata": {
        "id": "-RwWC-Zxt4NK",
        "colab_type": "code",
        "colab": {
          "base_uri": "https://localhost:8080/",
          "height": 34
        },
        "outputId": "3b7e2b48-9641-4e15-f1a5-00e42e83b657"
      },
      "source": [
        "A = np.array([[2,5,1],[3,-2,-1],[1,-3,1]])\n",
        "B = np.array([14,-1,4])\n",
        "x = np.linalg.solve(A,B)\n",
        "\n",
        "print(\"The solutions are:\",x)"
      ],
      "execution_count": 32,
      "outputs": [
        {
          "output_type": "stream",
          "text": [
            "The solutions are: [2. 1. 5.]\n"
          ],
          "name": "stdout"
        }
      ]
    }
  ]
}